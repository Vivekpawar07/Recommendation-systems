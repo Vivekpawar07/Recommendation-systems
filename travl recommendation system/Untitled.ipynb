{
 "cells": [
  {
   "cell_type": "markdown",
   "id": "1c6a96b5",
   "metadata": {},
   "source": [
    "# Travel Recommendation system"
   ]
  },
  {
   "cell_type": "code",
   "execution_count": 1,
   "id": "f1187cbb",
   "metadata": {},
   "outputs": [],
   "source": [
    "import numpy as np\n",
    "import pandas as pd\n"
   ]
  },
  {
   "cell_type": "code",
   "execution_count": 2,
   "id": "1952bcf3",
   "metadata": {},
   "outputs": [],
   "source": [
    "data = pd.read_csv('Top Indian Places to Visit (1).csv')"
   ]
  },
  {
   "cell_type": "code",
   "execution_count": 3,
   "id": "f7e41158",
   "metadata": {},
   "outputs": [
    {
     "name": "stdout",
     "output_type": "stream",
     "text": [
      "<class 'pandas.core.frame.DataFrame'>\n",
      "RangeIndex: 325 entries, 0 to 324\n",
      "Data columns (total 16 columns):\n",
      " #   Column                            Non-Null Count  Dtype  \n",
      "---  ------                            --------------  -----  \n",
      " 0   Unnamed: 0                        325 non-null    int64  \n",
      " 1   Zone                              325 non-null    object \n",
      " 2   State                             325 non-null    object \n",
      " 3   City                              325 non-null    object \n",
      " 4   Name                              325 non-null    object \n",
      " 5   Type                              325 non-null    object \n",
      " 6   Establishment Year                325 non-null    object \n",
      " 7   time needed to visit in hrs       325 non-null    float64\n",
      " 8   Google review rating              325 non-null    float64\n",
      " 9   Entrance Fee in INR               325 non-null    int64  \n",
      " 10  Airport with 50km Radius          325 non-null    object \n",
      " 11  Weekly Off                        32 non-null     object \n",
      " 12  Significance                      325 non-null    object \n",
      " 13  DSLR Allowed                      325 non-null    object \n",
      " 14  Number of google review in lakhs  325 non-null    float64\n",
      " 15  Best Time to visit                325 non-null    object \n",
      "dtypes: float64(3), int64(2), object(11)\n",
      "memory usage: 40.8+ KB\n"
     ]
    }
   ],
   "source": [
    "data.info()"
   ]
  },
  {
   "cell_type": "code",
   "execution_count": 4,
   "id": "0f1ce076",
   "metadata": {},
   "outputs": [
    {
     "data": {
      "text/html": [
       "<div>\n",
       "<style scoped>\n",
       "    .dataframe tbody tr th:only-of-type {\n",
       "        vertical-align: middle;\n",
       "    }\n",
       "\n",
       "    .dataframe tbody tr th {\n",
       "        vertical-align: top;\n",
       "    }\n",
       "\n",
       "    .dataframe thead th {\n",
       "        text-align: right;\n",
       "    }\n",
       "</style>\n",
       "<table border=\"1\" class=\"dataframe\">\n",
       "  <thead>\n",
       "    <tr style=\"text-align: right;\">\n",
       "      <th></th>\n",
       "      <th>Unnamed: 0</th>\n",
       "      <th>Zone</th>\n",
       "      <th>State</th>\n",
       "      <th>City</th>\n",
       "      <th>Name</th>\n",
       "      <th>Type</th>\n",
       "      <th>Establishment Year</th>\n",
       "      <th>time needed to visit in hrs</th>\n",
       "      <th>Google review rating</th>\n",
       "      <th>Entrance Fee in INR</th>\n",
       "      <th>Airport with 50km Radius</th>\n",
       "      <th>Weekly Off</th>\n",
       "      <th>Significance</th>\n",
       "      <th>DSLR Allowed</th>\n",
       "      <th>Number of google review in lakhs</th>\n",
       "      <th>Best Time to visit</th>\n",
       "    </tr>\n",
       "  </thead>\n",
       "  <tbody>\n",
       "    <tr>\n",
       "      <th>0</th>\n",
       "      <td>0</td>\n",
       "      <td>Northern</td>\n",
       "      <td>Delhi</td>\n",
       "      <td>Delhi</td>\n",
       "      <td>India Gate</td>\n",
       "      <td>War Memorial</td>\n",
       "      <td>1921</td>\n",
       "      <td>0.5</td>\n",
       "      <td>4.6</td>\n",
       "      <td>0</td>\n",
       "      <td>Yes</td>\n",
       "      <td>NaN</td>\n",
       "      <td>Historical</td>\n",
       "      <td>Yes</td>\n",
       "      <td>2.60</td>\n",
       "      <td>Evening</td>\n",
       "    </tr>\n",
       "    <tr>\n",
       "      <th>1</th>\n",
       "      <td>1</td>\n",
       "      <td>Northern</td>\n",
       "      <td>Delhi</td>\n",
       "      <td>Delhi</td>\n",
       "      <td>Humayun's Tomb</td>\n",
       "      <td>Tomb</td>\n",
       "      <td>1572</td>\n",
       "      <td>2.0</td>\n",
       "      <td>4.5</td>\n",
       "      <td>30</td>\n",
       "      <td>Yes</td>\n",
       "      <td>NaN</td>\n",
       "      <td>Historical</td>\n",
       "      <td>Yes</td>\n",
       "      <td>0.40</td>\n",
       "      <td>Afternoon</td>\n",
       "    </tr>\n",
       "    <tr>\n",
       "      <th>2</th>\n",
       "      <td>2</td>\n",
       "      <td>Northern</td>\n",
       "      <td>Delhi</td>\n",
       "      <td>Delhi</td>\n",
       "      <td>Akshardham Temple</td>\n",
       "      <td>Temple</td>\n",
       "      <td>2005</td>\n",
       "      <td>5.0</td>\n",
       "      <td>4.6</td>\n",
       "      <td>60</td>\n",
       "      <td>Yes</td>\n",
       "      <td>NaN</td>\n",
       "      <td>Religious</td>\n",
       "      <td>No</td>\n",
       "      <td>0.40</td>\n",
       "      <td>Afternoon</td>\n",
       "    </tr>\n",
       "    <tr>\n",
       "      <th>3</th>\n",
       "      <td>3</td>\n",
       "      <td>Northern</td>\n",
       "      <td>Delhi</td>\n",
       "      <td>Delhi</td>\n",
       "      <td>Waste to Wonder Park</td>\n",
       "      <td>Theme Park</td>\n",
       "      <td>2019</td>\n",
       "      <td>2.0</td>\n",
       "      <td>4.1</td>\n",
       "      <td>50</td>\n",
       "      <td>Yes</td>\n",
       "      <td>Monday</td>\n",
       "      <td>Environmental</td>\n",
       "      <td>Yes</td>\n",
       "      <td>0.27</td>\n",
       "      <td>Evening</td>\n",
       "    </tr>\n",
       "    <tr>\n",
       "      <th>4</th>\n",
       "      <td>4</td>\n",
       "      <td>Northern</td>\n",
       "      <td>Delhi</td>\n",
       "      <td>Delhi</td>\n",
       "      <td>Jantar Mantar</td>\n",
       "      <td>Observatory</td>\n",
       "      <td>1724</td>\n",
       "      <td>2.0</td>\n",
       "      <td>4.2</td>\n",
       "      <td>15</td>\n",
       "      <td>Yes</td>\n",
       "      <td>NaN</td>\n",
       "      <td>Scientific</td>\n",
       "      <td>Yes</td>\n",
       "      <td>0.31</td>\n",
       "      <td>Morning</td>\n",
       "    </tr>\n",
       "  </tbody>\n",
       "</table>\n",
       "</div>"
      ],
      "text/plain": [
       "   Unnamed: 0      Zone  State   City                  Name          Type  \\\n",
       "0           0  Northern  Delhi  Delhi            India Gate  War Memorial   \n",
       "1           1  Northern  Delhi  Delhi        Humayun's Tomb          Tomb   \n",
       "2           2  Northern  Delhi  Delhi     Akshardham Temple        Temple   \n",
       "3           3  Northern  Delhi  Delhi  Waste to Wonder Park    Theme Park   \n",
       "4           4  Northern  Delhi  Delhi         Jantar Mantar   Observatory   \n",
       "\n",
       "  Establishment Year  time needed to visit in hrs  Google review rating  \\\n",
       "0               1921                          0.5                   4.6   \n",
       "1               1572                          2.0                   4.5   \n",
       "2               2005                          5.0                   4.6   \n",
       "3               2019                          2.0                   4.1   \n",
       "4               1724                          2.0                   4.2   \n",
       "\n",
       "   Entrance Fee in INR Airport with 50km Radius Weekly Off   Significance  \\\n",
       "0                    0                      Yes        NaN     Historical   \n",
       "1                   30                      Yes        NaN     Historical   \n",
       "2                   60                      Yes        NaN      Religious   \n",
       "3                   50                      Yes     Monday  Environmental   \n",
       "4                   15                      Yes        NaN     Scientific   \n",
       "\n",
       "  DSLR Allowed  Number of google review in lakhs Best Time to visit  \n",
       "0          Yes                              2.60            Evening  \n",
       "1          Yes                              0.40          Afternoon  \n",
       "2           No                              0.40          Afternoon  \n",
       "3          Yes                              0.27            Evening  \n",
       "4          Yes                              0.31            Morning  "
      ]
     },
     "execution_count": 4,
     "metadata": {},
     "output_type": "execute_result"
    }
   ],
   "source": [
    "data.head()"
   ]
  },
  {
   "cell_type": "code",
   "execution_count": 5,
   "id": "4ac333cc",
   "metadata": {},
   "outputs": [
    {
     "data": {
      "text/plain": [
       "Unnamed: 0                            0\n",
       "Zone                                  0\n",
       "State                                 0\n",
       "City                                  0\n",
       "Name                                  0\n",
       "Type                                  0\n",
       "Establishment Year                    0\n",
       "time needed to visit in hrs           0\n",
       "Google review rating                  0\n",
       "Entrance Fee in INR                   0\n",
       "Airport with 50km Radius              0\n",
       "Weekly Off                          293\n",
       "Significance                          0\n",
       "DSLR Allowed                          0\n",
       "Number of google review in lakhs      0\n",
       "Best Time to visit                    0\n",
       "dtype: int64"
      ]
     },
     "execution_count": 5,
     "metadata": {},
     "output_type": "execute_result"
    }
   ],
   "source": [
    "data.isnull().sum()"
   ]
  },
  {
   "cell_type": "code",
   "execution_count": 6,
   "id": "6ee1f9e0",
   "metadata": {},
   "outputs": [
    {
     "data": {
      "text/plain": [
       "(325, 16)"
      ]
     },
     "execution_count": 6,
     "metadata": {},
     "output_type": "execute_result"
    }
   ],
   "source": [
    "data.shape"
   ]
  },
  {
   "cell_type": "code",
   "execution_count": 7,
   "id": "67d52367",
   "metadata": {},
   "outputs": [
    {
     "data": {
      "text/plain": [
       "0"
      ]
     },
     "execution_count": 7,
     "metadata": {},
     "output_type": "execute_result"
    }
   ],
   "source": [
    "data.duplicated().sum()"
   ]
  },
  {
   "cell_type": "code",
   "execution_count": 13,
   "id": "ef29229b",
   "metadata": {},
   "outputs": [
    {
     "data": {
      "text/html": [
       "<div>\n",
       "<style scoped>\n",
       "    .dataframe tbody tr th:only-of-type {\n",
       "        vertical-align: middle;\n",
       "    }\n",
       "\n",
       "    .dataframe tbody tr th {\n",
       "        vertical-align: top;\n",
       "    }\n",
       "\n",
       "    .dataframe thead th {\n",
       "        text-align: right;\n",
       "    }\n",
       "</style>\n",
       "<table border=\"1\" class=\"dataframe\">\n",
       "  <thead>\n",
       "    <tr style=\"text-align: right;\">\n",
       "      <th></th>\n",
       "      <th>Zone</th>\n",
       "      <th>State</th>\n",
       "      <th>City</th>\n",
       "      <th>Name</th>\n",
       "      <th>Type</th>\n",
       "      <th>Significance</th>\n",
       "    </tr>\n",
       "  </thead>\n",
       "  <tbody>\n",
       "    <tr>\n",
       "      <th>0</th>\n",
       "      <td>Northern</td>\n",
       "      <td>Delhi</td>\n",
       "      <td>Delhi</td>\n",
       "      <td>India Gate</td>\n",
       "      <td>War Memorial</td>\n",
       "      <td>Historical</td>\n",
       "    </tr>\n",
       "    <tr>\n",
       "      <th>1</th>\n",
       "      <td>Northern</td>\n",
       "      <td>Delhi</td>\n",
       "      <td>Delhi</td>\n",
       "      <td>Humayun's Tomb</td>\n",
       "      <td>Tomb</td>\n",
       "      <td>Historical</td>\n",
       "    </tr>\n",
       "    <tr>\n",
       "      <th>2</th>\n",
       "      <td>Northern</td>\n",
       "      <td>Delhi</td>\n",
       "      <td>Delhi</td>\n",
       "      <td>Akshardham Temple</td>\n",
       "      <td>Temple</td>\n",
       "      <td>Religious</td>\n",
       "    </tr>\n",
       "    <tr>\n",
       "      <th>3</th>\n",
       "      <td>Northern</td>\n",
       "      <td>Delhi</td>\n",
       "      <td>Delhi</td>\n",
       "      <td>Waste to Wonder Park</td>\n",
       "      <td>Theme Park</td>\n",
       "      <td>Environmental</td>\n",
       "    </tr>\n",
       "    <tr>\n",
       "      <th>4</th>\n",
       "      <td>Northern</td>\n",
       "      <td>Delhi</td>\n",
       "      <td>Delhi</td>\n",
       "      <td>Jantar Mantar</td>\n",
       "      <td>Observatory</td>\n",
       "      <td>Scientific</td>\n",
       "    </tr>\n",
       "  </tbody>\n",
       "</table>\n",
       "</div>"
      ],
      "text/plain": [
       "       Zone  State   City                  Name          Type   Significance\n",
       "0  Northern  Delhi  Delhi            India Gate  War Memorial     Historical\n",
       "1  Northern  Delhi  Delhi        Humayun's Tomb          Tomb     Historical\n",
       "2  Northern  Delhi  Delhi     Akshardham Temple        Temple      Religious\n",
       "3  Northern  Delhi  Delhi  Waste to Wonder Park    Theme Park  Environmental\n",
       "4  Northern  Delhi  Delhi         Jantar Mantar   Observatory     Scientific"
      ]
     },
     "execution_count": 13,
     "metadata": {},
     "output_type": "execute_result"
    }
   ],
   "source": [
    "df = data[['Zone','State','City','Name','Type','Significance']]\n",
    "df.head()"
   ]
  },
  {
   "cell_type": "code",
   "execution_count": 14,
   "id": "6b8fdf30",
   "metadata": {},
   "outputs": [
    {
     "data": {
      "text/plain": [
       "Zone            0\n",
       "State           0\n",
       "City            0\n",
       "Name            0\n",
       "Type            0\n",
       "Significance    0\n",
       "dtype: int64"
      ]
     },
     "execution_count": 14,
     "metadata": {},
     "output_type": "execute_result"
    }
   ],
   "source": [
    "df.isnull().sum()"
   ]
  },
  {
   "cell_type": "code",
   "execution_count": 16,
   "id": "7719707f",
   "metadata": {},
   "outputs": [
    {
     "name": "stderr",
     "output_type": "stream",
     "text": [
      "/var/folders/b4/d7d_4c_13mb24yqk0885smv80000gn/T/ipykernel_9634/656998579.py:1: SettingWithCopyWarning: \n",
      "A value is trying to be set on a copy of a slice from a DataFrame.\n",
      "Try using .loc[row_indexer,col_indexer] = value instead\n",
      "\n",
      "See the caveats in the documentation: https://pandas.pydata.org/pandas-docs/stable/user_guide/indexing.html#returning-a-view-versus-a-copy\n",
      "  df['tags'] = df['Zone'] + \" \"+ df['State'] + \" \" + df['City'] + \" \" + df['Type'] + \" \" + df['Significance']\n"
     ]
    }
   ],
   "source": [
    "df['tags'] = df['Zone'] + \" \"+ df['State'] + \" \" + df['City'] + \" \" + df['Type'] + \" \" + df['Significance']"
   ]
  },
  {
   "cell_type": "code",
   "execution_count": 17,
   "id": "cc572227",
   "metadata": {},
   "outputs": [
    {
     "data": {
      "text/html": [
       "<div>\n",
       "<style scoped>\n",
       "    .dataframe tbody tr th:only-of-type {\n",
       "        vertical-align: middle;\n",
       "    }\n",
       "\n",
       "    .dataframe tbody tr th {\n",
       "        vertical-align: top;\n",
       "    }\n",
       "\n",
       "    .dataframe thead th {\n",
       "        text-align: right;\n",
       "    }\n",
       "</style>\n",
       "<table border=\"1\" class=\"dataframe\">\n",
       "  <thead>\n",
       "    <tr style=\"text-align: right;\">\n",
       "      <th></th>\n",
       "      <th>Zone</th>\n",
       "      <th>State</th>\n",
       "      <th>City</th>\n",
       "      <th>Name</th>\n",
       "      <th>Type</th>\n",
       "      <th>Significance</th>\n",
       "      <th>tags</th>\n",
       "    </tr>\n",
       "  </thead>\n",
       "  <tbody>\n",
       "    <tr>\n",
       "      <th>0</th>\n",
       "      <td>Northern</td>\n",
       "      <td>Delhi</td>\n",
       "      <td>Delhi</td>\n",
       "      <td>India Gate</td>\n",
       "      <td>War Memorial</td>\n",
       "      <td>Historical</td>\n",
       "      <td>Northern Delhi Delhi War Memorial Historical</td>\n",
       "    </tr>\n",
       "    <tr>\n",
       "      <th>1</th>\n",
       "      <td>Northern</td>\n",
       "      <td>Delhi</td>\n",
       "      <td>Delhi</td>\n",
       "      <td>Humayun's Tomb</td>\n",
       "      <td>Tomb</td>\n",
       "      <td>Historical</td>\n",
       "      <td>Northern Delhi Delhi Tomb Historical</td>\n",
       "    </tr>\n",
       "    <tr>\n",
       "      <th>2</th>\n",
       "      <td>Northern</td>\n",
       "      <td>Delhi</td>\n",
       "      <td>Delhi</td>\n",
       "      <td>Akshardham Temple</td>\n",
       "      <td>Temple</td>\n",
       "      <td>Religious</td>\n",
       "      <td>Northern Delhi Delhi Temple Religious</td>\n",
       "    </tr>\n",
       "    <tr>\n",
       "      <th>3</th>\n",
       "      <td>Northern</td>\n",
       "      <td>Delhi</td>\n",
       "      <td>Delhi</td>\n",
       "      <td>Waste to Wonder Park</td>\n",
       "      <td>Theme Park</td>\n",
       "      <td>Environmental</td>\n",
       "      <td>Northern Delhi Delhi Theme Park Environmental</td>\n",
       "    </tr>\n",
       "    <tr>\n",
       "      <th>4</th>\n",
       "      <td>Northern</td>\n",
       "      <td>Delhi</td>\n",
       "      <td>Delhi</td>\n",
       "      <td>Jantar Mantar</td>\n",
       "      <td>Observatory</td>\n",
       "      <td>Scientific</td>\n",
       "      <td>Northern Delhi Delhi Observatory Scientific</td>\n",
       "    </tr>\n",
       "  </tbody>\n",
       "</table>\n",
       "</div>"
      ],
      "text/plain": [
       "       Zone  State   City                  Name          Type   Significance  \\\n",
       "0  Northern  Delhi  Delhi            India Gate  War Memorial     Historical   \n",
       "1  Northern  Delhi  Delhi        Humayun's Tomb          Tomb     Historical   \n",
       "2  Northern  Delhi  Delhi     Akshardham Temple        Temple      Religious   \n",
       "3  Northern  Delhi  Delhi  Waste to Wonder Park    Theme Park  Environmental   \n",
       "4  Northern  Delhi  Delhi         Jantar Mantar   Observatory     Scientific   \n",
       "\n",
       "                                            tags  \n",
       "0   Northern Delhi Delhi War Memorial Historical  \n",
       "1           Northern Delhi Delhi Tomb Historical  \n",
       "2          Northern Delhi Delhi Temple Religious  \n",
       "3  Northern Delhi Delhi Theme Park Environmental  \n",
       "4    Northern Delhi Delhi Observatory Scientific  "
      ]
     },
     "execution_count": 17,
     "metadata": {},
     "output_type": "execute_result"
    }
   ],
   "source": [
    "df.head()"
   ]
  },
  {
   "cell_type": "code",
   "execution_count": 18,
   "id": "bba165ab",
   "metadata": {},
   "outputs": [],
   "source": [
    "travel_df = df[['Name','tags']]"
   ]
  },
  {
   "cell_type": "code",
   "execution_count": 19,
   "id": "e9e5face",
   "metadata": {},
   "outputs": [
    {
     "data": {
      "text/html": [
       "<div>\n",
       "<style scoped>\n",
       "    .dataframe tbody tr th:only-of-type {\n",
       "        vertical-align: middle;\n",
       "    }\n",
       "\n",
       "    .dataframe tbody tr th {\n",
       "        vertical-align: top;\n",
       "    }\n",
       "\n",
       "    .dataframe thead th {\n",
       "        text-align: right;\n",
       "    }\n",
       "</style>\n",
       "<table border=\"1\" class=\"dataframe\">\n",
       "  <thead>\n",
       "    <tr style=\"text-align: right;\">\n",
       "      <th></th>\n",
       "      <th>Name</th>\n",
       "      <th>tags</th>\n",
       "    </tr>\n",
       "  </thead>\n",
       "  <tbody>\n",
       "    <tr>\n",
       "      <th>0</th>\n",
       "      <td>India Gate</td>\n",
       "      <td>Northern Delhi Delhi War Memorial Historical</td>\n",
       "    </tr>\n",
       "    <tr>\n",
       "      <th>1</th>\n",
       "      <td>Humayun's Tomb</td>\n",
       "      <td>Northern Delhi Delhi Tomb Historical</td>\n",
       "    </tr>\n",
       "    <tr>\n",
       "      <th>2</th>\n",
       "      <td>Akshardham Temple</td>\n",
       "      <td>Northern Delhi Delhi Temple Religious</td>\n",
       "    </tr>\n",
       "    <tr>\n",
       "      <th>3</th>\n",
       "      <td>Waste to Wonder Park</td>\n",
       "      <td>Northern Delhi Delhi Theme Park Environmental</td>\n",
       "    </tr>\n",
       "    <tr>\n",
       "      <th>4</th>\n",
       "      <td>Jantar Mantar</td>\n",
       "      <td>Northern Delhi Delhi Observatory Scientific</td>\n",
       "    </tr>\n",
       "  </tbody>\n",
       "</table>\n",
       "</div>"
      ],
      "text/plain": [
       "                   Name                                           tags\n",
       "0            India Gate   Northern Delhi Delhi War Memorial Historical\n",
       "1        Humayun's Tomb           Northern Delhi Delhi Tomb Historical\n",
       "2     Akshardham Temple          Northern Delhi Delhi Temple Religious\n",
       "3  Waste to Wonder Park  Northern Delhi Delhi Theme Park Environmental\n",
       "4         Jantar Mantar    Northern Delhi Delhi Observatory Scientific"
      ]
     },
     "execution_count": 19,
     "metadata": {},
     "output_type": "execute_result"
    }
   ],
   "source": [
    "travel_df.head()"
   ]
  },
  {
   "cell_type": "code",
   "execution_count": 20,
   "id": "f700b4de",
   "metadata": {},
   "outputs": [
    {
     "data": {
      "text/plain": [
       "array([0, 0, 0, 0, 0, 0, 0, 0, 0, 0, 0, 0, 0, 0, 0, 0, 0, 0, 0, 0, 0, 0,\n",
       "       0, 0, 0, 0, 0, 0, 0, 0, 0, 0, 0, 0, 0, 0, 0, 0, 0, 0, 0, 0, 0, 0,\n",
       "       0, 0, 0, 0, 0, 0, 0, 0, 0, 0, 0, 0, 0, 0, 0, 0, 0, 0, 0, 0, 0, 0,\n",
       "       0, 0, 0, 0, 0, 0, 0, 0, 0, 0, 0, 0, 0, 0, 0, 0, 0, 0, 0, 0, 0, 0,\n",
       "       0, 0, 0, 0, 0, 0, 0, 0, 2, 0, 0, 0, 0, 0, 0, 0, 0, 0, 0, 0, 0, 0,\n",
       "       0, 0, 0, 0, 0, 0, 0, 0, 0, 0, 0, 0, 0, 0, 0, 0, 0, 0, 0, 0, 0, 0,\n",
       "       0, 0, 0, 0, 0, 0, 0, 0, 0, 0, 0, 1, 0, 0, 0, 0, 0, 0, 0, 0, 0, 0,\n",
       "       0, 0, 0, 0, 0, 0, 0, 0, 0, 0, 0, 0, 0, 0, 0, 0, 0, 0, 0, 0, 0, 0,\n",
       "       0, 0, 0, 0, 0, 0, 0, 0, 0, 0, 0, 0, 0, 0, 0, 0, 0, 0, 0, 0, 0, 0,\n",
       "       0, 0, 0, 0, 0, 0, 0, 0, 0, 0, 0, 0, 0, 0, 0, 0, 0, 0, 0, 0, 1, 0,\n",
       "       0, 0, 0, 0, 0, 0, 0, 0, 0, 0, 0, 0, 0, 0, 0, 0, 0, 0, 0, 0, 0, 0,\n",
       "       0, 0, 0, 0, 0, 1, 0, 0, 0, 0, 0, 0, 0, 0, 0, 0, 0, 0, 0, 0, 0, 0,\n",
       "       0, 0, 0, 0, 0, 0, 0, 0, 0, 0, 0, 0, 0, 0, 0, 0, 0, 0, 0, 0, 0, 0,\n",
       "       0, 0, 0, 0, 0, 0, 0, 0, 0, 0, 0, 0, 0, 0, 0, 0, 0, 0, 0, 0, 0, 0,\n",
       "       0, 0, 0, 0, 0, 0, 0, 0, 0, 0, 0, 0, 0, 0, 0, 0, 0, 0, 0, 0, 0, 0,\n",
       "       0, 0, 0, 0, 0, 0, 0, 0, 0, 0, 0, 0, 0, 0, 0, 0, 0, 0, 0, 0, 0, 0,\n",
       "       0, 0, 0, 0, 0, 0, 0, 0, 0, 0, 0, 0, 1, 0, 0, 0, 0, 0, 0, 0, 0])"
      ]
     },
     "execution_count": 20,
     "metadata": {},
     "output_type": "execute_result"
    }
   ],
   "source": [
    "from sklearn.feature_extraction.text import CountVectorizer\n",
    "cv = CountVectorizer(max_features=3000,stop_words='english')\n",
    "vectors = cv.fit_transform(travel_df['tags']).toarray()\n",
    "vectors[0]"
   ]
  },
  {
   "cell_type": "code",
   "execution_count": 21,
   "id": "d1bd615f",
   "metadata": {},
   "outputs": [],
   "source": [
    "from sklearn.metrics.pairwise import cosine_similarity\n",
    "similarity = cosine_similarity(vectors)"
   ]
  },
  {
   "cell_type": "code",
   "execution_count": 24,
   "id": "86d6d6e5",
   "metadata": {},
   "outputs": [],
   "source": [
    "def recommendation(place):\n",
    "    place_index = travel_df[travel_df['Name'] == place].index[0]\n",
    "    distance = similarity[place_index]\n",
    "    place_list = sorted(list(enumerate(distance)),reverse=True,key=lambda x:x[1])[1:6]\n",
    "    for i in place_list:\n",
    "        print(df.iloc[i[0]]['Name'])"
   ]
  },
  {
   "cell_type": "code",
   "execution_count": 28,
   "id": "2946a12f",
   "metadata": {},
   "outputs": [
    {
     "name": "stdout",
     "output_type": "stream",
     "text": [
      "Gateway of India\n",
      "Chhatrapati Shivaji Maharaj Vastu Sangrahalaya\n",
      "Siddhivinayak Temple\n",
      "Mahalaxmi Temple\n",
      "Chowpatty Beach\n"
     ]
    }
   ],
   "source": [
    "recommendation('Marine Drive')"
   ]
  },
  {
   "cell_type": "code",
   "execution_count": null,
   "id": "037c67c0",
   "metadata": {},
   "outputs": [],
   "source": []
  },
  {
   "cell_type": "code",
   "execution_count": null,
   "id": "bd2ee31b",
   "metadata": {},
   "outputs": [],
   "source": []
  }
 ],
 "metadata": {
  "kernelspec": {
   "display_name": "Python 3 (ipykernel)",
   "language": "python",
   "name": "python3"
  },
  "language_info": {
   "codemirror_mode": {
    "name": "ipython",
    "version": 3
   },
   "file_extension": ".py",
   "mimetype": "text/x-python",
   "name": "python",
   "nbconvert_exporter": "python",
   "pygments_lexer": "ipython3",
   "version": "3.11.5"
  }
 },
 "nbformat": 4,
 "nbformat_minor": 5
}
